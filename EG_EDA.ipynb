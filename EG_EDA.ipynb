{
 "cells": [
  {
   "cell_type": "code",
   "execution_count": 1,
   "id": "amino-playlist",
   "metadata": {},
   "outputs": [
    {
     "name": "stdout",
     "output_type": "stream",
     "text": [
      "Index(['Unnamed: 0', 'Name', 'Wait Time', 'Delivery Fee', 'Link',\n",
      "       'Delivery Address', 'Geoid', 'Unnamed: 0.1', 'Countyfp', 'Blkgrpce',\n",
      "       'Funcstat', 'Latitude', 'Longitude', 'Mtfcc', 'Namelsad', 'Statefp',\n",
      "       'Tractce', 'Aland', 'Awater', 'Latitude.1', 'Longitude.1',\n",
      "       'Accuracy Score', 'Accuracy Type', 'Number', 'Street', 'Unit Type',\n",
      "       'Unit Number', 'City', 'State', 'County', 'Zip', 'Country', 'Source'],\n",
      "      dtype='object')\n",
      "Index(['County Cod', 'State Code', 'Census Tra', 'Geoid', 'Holc Grade',\n",
      "       'Holc Id', 'Id', 'Map Id', 'Msamd', 'Municipali', 'Name', 'Polygon Id',\n",
      "       'St Name', 'State', 'Year', 'Geometry', 'Holc Area', 'Holc Prop',\n",
      "       'Sheets', 'Tract Prop'],\n",
      "      dtype='object')\n"
     ]
    }
   ],
   "source": [
    "import csv\n",
    "import pandas as pd\n",
    "\n",
    "# Import dataframes\n",
    "df = pd.read_csv(open('11-19-2021 11pm ET/df_merged.csv'))\n",
    "print(df.columns)\n",
    "holc_grade = pd.read_csv(open('ACS/holc_grade_csv.csv'))\n",
    "print(holc_grade.columns)"
   ]
  },
  {
   "cell_type": "markdown",
   "id": "logical-render",
   "metadata": {},
   "source": [
    "#### Keep geoid and holc grade cols from holc_grade_csv.csv (encoding error in holc_grade.csv)"
   ]
  },
  {
   "cell_type": "code",
   "execution_count": 165,
   "id": "active-transaction",
   "metadata": {},
   "outputs": [
    {
     "name": "stdout",
     "output_type": "stream",
     "text": [
      "   Tract Geoid Holc Grade\n",
      "0   6001421200          B\n",
      "1   6001402500          D\n",
      "2   6001423602          B\n",
      "3   6001400400          B\n",
      "4   6001421200          B\n"
     ]
    }
   ],
   "source": [
    "holc_grade = holc_grade.loc[:,holc_grade.columns.isin(['Geoid','Holc Grade'])]\n",
    "# df = df.rename(columns={'$a':'a'})\n",
    "holc_grade.rename(columns={'Geoid':'Tract Geoid'}, inplace=True)\n",
    "print(holc_grade.head())"
   ]
  },
  {
   "cell_type": "markdown",
   "id": "blessed-customer",
   "metadata": {},
   "source": [
    "#### Keep 'Name', 'Wait Time', 'Delivery Fee', 'Delivery Address', 'Geoid', 'Blkgrpce' from joined_wDistance\n",
    "divide geoid value by 10 to get tract geoid"
   ]
  },
  {
   "cell_type": "code",
   "execution_count": 307,
   "id": "fresh-sample",
   "metadata": {},
   "outputs": [
    {
     "name": "stdout",
     "output_type": "stream",
     "text": [
      "                                            Name  Wait Time  Delivery Fee  \\\n",
      "0                     Philly's Best (Jingletown)        NaN          4.99   \n",
      "1                Burger Latino (5333 Adeline St)  35–45 min          3.99   \n",
      "2  Philly Fresh Cheesesteaks (5333 Adeline St ,)  35–45 min          3.99   \n",
      "3                         Dirty Burger (Oakland)  45–55 min          4.99   \n",
      "4              iLava Hawaiian Barbecue (Adeline)  35–45 min          3.99   \n",
      "\n",
      "            Delivery Address        Geoid  Tract Geoid  \n",
      "0  2236 Linden St Oakland CA  60014016002   6001401600  \n",
      "1  2236 Linden St Oakland CA  60014016002   6001401600  \n",
      "2  2236 Linden St Oakland CA  60014016002   6001401600  \n",
      "3  2236 Linden St Oakland CA  60014016002   6001401600  \n",
      "4  2236 Linden St Oakland CA  60014016002   6001401600  \n"
     ]
    }
   ],
   "source": [
    "df = df.loc[:, df.columns.isin(['Name', 'Wait Time', 'Delivery Fee', 'Delivery Address', 'Geoid'])]\n",
    "df['Tract Geoid'] = df['Geoid']//10\n",
    "print(df.head())"
   ]
  },
  {
   "cell_type": "markdown",
   "id": "embedded-making",
   "metadata": {},
   "source": [
    "### How many unique tract geoids are there in the joined dataframe/HOLC grade data?"
   ]
  },
  {
   "cell_type": "code",
   "execution_count": 308,
   "id": "accredited-border",
   "metadata": {},
   "outputs": [
    {
     "name": "stdout",
     "output_type": "stream",
     "text": [
      "137 in joined df\n",
      "175 in HOLC data\n"
     ]
    }
   ],
   "source": [
    "print(len(np.unique(df['Tract Geoid'])), \"in joined df\")\n",
    "print(len(np.unique(holc_grade['Tract Geoid'])), \"in HOLC data\")"
   ]
  },
  {
   "cell_type": "markdown",
   "id": "bored-story",
   "metadata": {},
   "source": [
    "### Join tract geoids with one HOLC grade to main dataframe"
   ]
  },
  {
   "cell_type": "markdown",
   "id": "anticipated-tomorrow",
   "metadata": {},
   "source": [
    "## General strategy\n",
    "#### \"One-entry\" tract geoids are geoids with exactly one entry in the holc_grade csv, or geoids with duplicate entries with identical HOLC grades. One-entry tract geoids have their respective HOLC grades in the 'Holc Grade' column. \n",
    "\n",
    "#### \"Multi-grade\" tract geoids have more than one entry in the holc_grade csv, with different HOLC grades for different entries. Multi-grade tract geoids have a list of grades in the 'Holc Grade' column."
   ]
  },
  {
   "cell_type": "code",
   "execution_count": 309,
   "id": "stable-balance",
   "metadata": {},
   "outputs": [
    {
     "name": "stdout",
     "output_type": "stream",
     "text": [
      "60 tract geoids have exactly one HOLC grade\n"
     ]
    }
   ],
   "source": [
    "# isolate one_entry geoids from holc_grades\n",
    "# one_entry geoids are duplicates with identical HOLC scores, or geoids with exactly one entry\n",
    "holc_grade_no_dup = holc_grade.drop_duplicates()\n",
    "one_grade = [geoid for geoid in holc_grade_no_dup['Tract Geoid'] \n",
    "               if len(holc_grade_no_dup[holc_grade_no_dup['Tract Geoid'] == geoid]) == 1]\n",
    "print(len(one_grade), \"tract geoids have exactly one HOLC grade\")\n",
    "# get grades for one-entry geoids\n",
    "one_grade_data = holc_grade_no_dup[holc_grade_no_dup['Tract Geoid'].isin(one_grade)]\n",
    "# join one-entry geoids to main dataframe\n",
    "joined_df = df.join(one_grade_data.set_index('Tract Geoid'), on='Tract Geoid', how='left')"
   ]
  },
  {
   "cell_type": "code",
   "execution_count": 310,
   "id": "oriented-discretion",
   "metadata": {},
   "outputs": [
    {
     "data": {
      "text/html": [
       "<div>\n",
       "<style scoped>\n",
       "    .dataframe tbody tr th:only-of-type {\n",
       "        vertical-align: middle;\n",
       "    }\n",
       "\n",
       "    .dataframe tbody tr th {\n",
       "        vertical-align: top;\n",
       "    }\n",
       "\n",
       "    .dataframe thead th {\n",
       "        text-align: right;\n",
       "    }\n",
       "</style>\n",
       "<table border=\"1\" class=\"dataframe\">\n",
       "  <thead>\n",
       "    <tr style=\"text-align: right;\">\n",
       "      <th></th>\n",
       "      <th>Name</th>\n",
       "      <th>Wait Time</th>\n",
       "      <th>Delivery Fee</th>\n",
       "      <th>Delivery Address</th>\n",
       "      <th>Geoid</th>\n",
       "      <th>Tract Geoid</th>\n",
       "      <th>Holc Grade</th>\n",
       "    </tr>\n",
       "  </thead>\n",
       "  <tbody>\n",
       "    <tr>\n",
       "      <th>4313</th>\n",
       "      <td>Philly's Best (Jingletown)</td>\n",
       "      <td>NaN</td>\n",
       "      <td>3.99</td>\n",
       "      <td>4500 Ellen St Oakland CA</td>\n",
       "      <td>60014076005</td>\n",
       "      <td>6001407600</td>\n",
       "      <td>NaN</td>\n",
       "    </tr>\n",
       "    <tr>\n",
       "      <th>4314</th>\n",
       "      <td>OSHA Thai Express (Oakland)</td>\n",
       "      <td>45–55 min</td>\n",
       "      <td>4.99</td>\n",
       "      <td>4500 Ellen St Oakland CA</td>\n",
       "      <td>60014076005</td>\n",
       "      <td>6001407600</td>\n",
       "      <td>NaN</td>\n",
       "    </tr>\n",
       "    <tr>\n",
       "      <th>4315</th>\n",
       "      <td>iLava Hawaiian Barbecue (Adeline)</td>\n",
       "      <td>40–50 min</td>\n",
       "      <td>6.99</td>\n",
       "      <td>4500 Ellen St Oakland CA</td>\n",
       "      <td>60014076005</td>\n",
       "      <td>6001407600</td>\n",
       "      <td>NaN</td>\n",
       "    </tr>\n",
       "    <tr>\n",
       "      <th>4316</th>\n",
       "      <td>Toasty's Breakfast Burritos (Oakland)</td>\n",
       "      <td>50–60 min</td>\n",
       "      <td>3.99</td>\n",
       "      <td>4500 Ellen St Oakland CA</td>\n",
       "      <td>60014076005</td>\n",
       "      <td>6001407600</td>\n",
       "      <td>NaN</td>\n",
       "    </tr>\n",
       "    <tr>\n",
       "      <th>4317</th>\n",
       "      <td>Philly Fresh Cheesesteaks (5333 Adeline St ,)</td>\n",
       "      <td>45–55 min</td>\n",
       "      <td>6.99</td>\n",
       "      <td>4500 Ellen St Oakland CA</td>\n",
       "      <td>60014076005</td>\n",
       "      <td>6001407600</td>\n",
       "      <td>NaN</td>\n",
       "    </tr>\n",
       "    <tr>\n",
       "      <th>...</th>\n",
       "      <td>...</td>\n",
       "      <td>...</td>\n",
       "      <td>...</td>\n",
       "      <td>...</td>\n",
       "      <td>...</td>\n",
       "      <td>...</td>\n",
       "      <td>...</td>\n",
       "    </tr>\n",
       "    <tr>\n",
       "      <th>13439</th>\n",
       "      <td>Los Cantaros Taqueria -Emeryville, CA</td>\n",
       "      <td>40–50 min</td>\n",
       "      <td>7.99</td>\n",
       "      <td>4716 Fairfax Ave Oakland CA</td>\n",
       "      <td>60014076002</td>\n",
       "      <td>6001407600</td>\n",
       "      <td>NaN</td>\n",
       "    </tr>\n",
       "    <tr>\n",
       "      <th>13440</th>\n",
       "      <td>Cheese Steak Shop - Oakland</td>\n",
       "      <td>30–40 min</td>\n",
       "      <td>4.99</td>\n",
       "      <td>4716 Fairfax Ave Oakland CA</td>\n",
       "      <td>60014076002</td>\n",
       "      <td>6001407600</td>\n",
       "      <td>NaN</td>\n",
       "    </tr>\n",
       "    <tr>\n",
       "      <th>13441</th>\n",
       "      <td>Ikaros Greek Restaurant</td>\n",
       "      <td>40–50 min</td>\n",
       "      <td>3.99</td>\n",
       "      <td>4716 Fairfax Ave Oakland CA</td>\n",
       "      <td>60014076002</td>\n",
       "      <td>6001407600</td>\n",
       "      <td>NaN</td>\n",
       "    </tr>\n",
       "    <tr>\n",
       "      <th>13442</th>\n",
       "      <td>Tasty Pot - Berkeley</td>\n",
       "      <td>55–65 min</td>\n",
       "      <td>7.99</td>\n",
       "      <td>4716 Fairfax Ave Oakland CA</td>\n",
       "      <td>60014076002</td>\n",
       "      <td>6001407600</td>\n",
       "      <td>NaN</td>\n",
       "    </tr>\n",
       "    <tr>\n",
       "      <th>13443</th>\n",
       "      <td>La Estrella Food Truck</td>\n",
       "      <td>40–50 min</td>\n",
       "      <td>13.99</td>\n",
       "      <td>4716 Fairfax Ave Oakland CA</td>\n",
       "      <td>60014076002</td>\n",
       "      <td>6001407600</td>\n",
       "      <td>NaN</td>\n",
       "    </tr>\n",
       "  </tbody>\n",
       "</table>\n",
       "<p>621 rows × 7 columns</p>\n",
       "</div>"
      ],
      "text/plain": [
       "                                                Name  Wait Time  Delivery Fee  \\\n",
       "4313                      Philly's Best (Jingletown)        NaN          3.99   \n",
       "4314                     OSHA Thai Express (Oakland)  45–55 min          4.99   \n",
       "4315               iLava Hawaiian Barbecue (Adeline)  40–50 min          6.99   \n",
       "4316           Toasty's Breakfast Burritos (Oakland)  50–60 min          3.99   \n",
       "4317   Philly Fresh Cheesesteaks (5333 Adeline St ,)  45–55 min          6.99   \n",
       "...                                              ...        ...           ...   \n",
       "13439          Los Cantaros Taqueria -Emeryville, CA  40–50 min          7.99   \n",
       "13440                    Cheese Steak Shop - Oakland  30–40 min          4.99   \n",
       "13441                        Ikaros Greek Restaurant  40–50 min          3.99   \n",
       "13442                           Tasty Pot - Berkeley  55–65 min          7.99   \n",
       "13443                         La Estrella Food Truck  40–50 min         13.99   \n",
       "\n",
       "                  Delivery Address        Geoid  Tract Geoid Holc Grade  \n",
       "4313      4500 Ellen St Oakland CA  60014076005   6001407600        NaN  \n",
       "4314      4500 Ellen St Oakland CA  60014076005   6001407600        NaN  \n",
       "4315      4500 Ellen St Oakland CA  60014076005   6001407600        NaN  \n",
       "4316      4500 Ellen St Oakland CA  60014076005   6001407600        NaN  \n",
       "4317      4500 Ellen St Oakland CA  60014076005   6001407600        NaN  \n",
       "...                            ...          ...          ...        ...  \n",
       "13439  4716 Fairfax Ave Oakland CA  60014076002   6001407600        NaN  \n",
       "13440  4716 Fairfax Ave Oakland CA  60014076002   6001407600        NaN  \n",
       "13441  4716 Fairfax Ave Oakland CA  60014076002   6001407600        NaN  \n",
       "13442  4716 Fairfax Ave Oakland CA  60014076002   6001407600        NaN  \n",
       "13443  4716 Fairfax Ave Oakland CA  60014076002   6001407600        NaN  \n",
       "\n",
       "[621 rows x 7 columns]"
      ]
     },
     "execution_count": 310,
     "metadata": {},
     "output_type": "execute_result"
    }
   ],
   "source": [
    "# Sanity check - confirm NaN value for HOLC grade for a multi-grade geoid\n",
    "joined_df[joined_df['Tract Geoid'] == 6001407600]"
   ]
  },
  {
   "cell_type": "markdown",
   "id": "round-ambassador",
   "metadata": {},
   "source": [
    "### For tract geoids with more than one HOLC grade, convert to a list of grades to add to df"
   ]
  },
  {
   "cell_type": "code",
   "execution_count": 311,
   "id": "eastern-elder",
   "metadata": {},
   "outputs": [
    {
     "name": "stdout",
     "output_type": "stream",
     "text": [
      "115 tract geoids have more than one HOLC grade\n"
     ]
    }
   ],
   "source": [
    "print(len(np.unique(multi_grade)), \"tract geoids have more than one HOLC grade\")"
   ]
  },
  {
   "cell_type": "code",
   "execution_count": 312,
   "id": "instrumental-indonesia",
   "metadata": {},
   "outputs": [
    {
     "name": "stdout",
     "output_type": "stream",
     "text": [
      "['A' 'B' 'C']\n",
      "40910    NaN\n",
      "40911    NaN\n",
      "40912    NaN\n",
      "40913    NaN\n",
      "40914    NaN\n",
      "        ... \n",
      "42583    NaN\n",
      "42584    NaN\n",
      "42585    NaN\n",
      "42586    NaN\n",
      "42587    NaN\n",
      "Name: Holc Grade, Length: 328, dtype: object\n"
     ]
    }
   ],
   "source": [
    "# Sanity check \n",
    "print(np.unique(holc_grade[holc_grade['Tract Geoid'] == 6001423700]['Holc Grade']))\n",
    "print(joined_df.loc[joined_df['Tract Geoid'] == 6001423700, 'Holc Grade'])"
   ]
  },
  {
   "cell_type": "code",
   "execution_count": 313,
   "id": "raised-occupation",
   "metadata": {},
   "outputs": [
    {
     "name": "stdout",
     "output_type": "stream",
     "text": [
      "115 tract geoids with more than one HOLC grade\n"
     ]
    }
   ],
   "source": [
    "multi_grade = [geoid for geoid in holc_grade['Tract Geoid']\n",
    "              if geoid not in one_grade]\n",
    "print(len(np.unique(multi_grade)), \"tract geoids with more than one HOLC grade\")\n",
    "\n",
    "# Add list of grades to HOLC grade for multi-grade geoids\n",
    "for geoid in multi_grade:\n",
    "    grades = np.unique(holc_grade[holc_grade['Tract Geoid'] == geoid]['Holc Grade'])\n",
    "    joined_df.loc[joined_df['Tract Geoid'] == geoid, 'Holc Grade'] = ', '.join(grades)"
   ]
  },
  {
   "cell_type": "code",
   "execution_count": 314,
   "id": "synthetic-harrison",
   "metadata": {},
   "outputs": [
    {
     "name": "stdout",
     "output_type": "stream",
     "text": [
      "40910    A, B, C\n",
      "40911    A, B, C\n",
      "40912    A, B, C\n",
      "40913    A, B, C\n",
      "40914    A, B, C\n",
      "          ...   \n",
      "42583    A, B, C\n",
      "42584    A, B, C\n",
      "42585    A, B, C\n",
      "42586    A, B, C\n",
      "42587    A, B, C\n",
      "Name: Holc Grade, Length: 328, dtype: object\n",
      "29681 entries with more than one HOLC grade\n",
      "13824 entries with exactly one HOLC grade\n"
     ]
    }
   ],
   "source": [
    "# Sanity check - multi-grade geoid is populated with a list of grades\n",
    "print(joined_df.loc[joined_df['Tract Geoid'] == 6001423700, 'Holc Grade'])\n",
    "print(len(joined_df.loc[joined_df['Holc Grade'].str.len() > 1]), \"entries with more than one HOLC grade\")\n",
    "print(len(joined_df.loc[joined_df['Holc Grade'].str.len() == 1]), \"entries with exactly one HOLC grade\")"
   ]
  },
  {
   "cell_type": "markdown",
   "id": "directed-vermont",
   "metadata": {},
   "source": [
    "### Join ACS demographic data on block group Geoid"
   ]
  },
  {
   "cell_type": "code",
   "execution_count": 315,
   "id": "baking-processor",
   "metadata": {},
   "outputs": [
    {
     "name": "stdout",
     "output_type": "stream",
     "text": [
      "Final DataFrame columns: \n",
      " ['Name', 'Wait Time', 'Delivery Fee', 'Delivery Address', 'Geoid', 'Tract Geoid', 'Holc Grade', 'pct_white', 'pct_black', 'pct_native', 'pct_asian', 'pct_hisp', 'pct_other', 'median_income', 'pct_college', 'pct_hs_grad', 'pct_device_access', 'pct_internet_access']\n"
     ]
    }
   ],
   "source": [
    "demo_df = pd.read_csv(open('ACS/acs_demographic_data.csv'))\n",
    "demo_df = demo_df.loc[:, demo_df.columns.isin(['pct_white',\n",
    "       'pct_black', 'pct_native', 'pct_asian', 'pct_hisp', 'pct_other',\n",
    "       'median_income', 'pct_college', 'pct_hs_grad', 'pct_device_access',\n",
    "       'pct_internet_access', 'GEOID'])]\n",
    "demo_df.rename(columns={\"GEOID\":\"Geoid\"}, inplace=True)\n",
    "df = joined_df.join(demo_df.set_index('Geoid'), on='Geoid', how='left')\n",
    "print(\"Final DataFrame columns: \\n\", list(df.columns))"
   ]
  },
  {
   "cell_type": "markdown",
   "id": "right-insured",
   "metadata": {},
   "source": [
    "# Data Exploration\n",
    "Initial questions:\n",
    "- What are the min, max, & avg delivery fees for addresses in highest & lowest HOLC grade areas?\n",
    "- Same question for tracts with *any* \"hazardous\" graded areas relative to those with none"
   ]
  },
  {
   "cell_type": "markdown",
   "id": "imported-texas",
   "metadata": {},
   "source": [
    "####  What are the min, max, & avg delivery fees for addresses in areas with each HOLC grade?"
   ]
  },
  {
   "cell_type": "code",
   "execution_count": 434,
   "id": "hydraulic-filing",
   "metadata": {},
   "outputs": [
    {
     "name": "stdout",
     "output_type": "stream",
     "text": [
      "Delivery address in area with A Grade\n",
      "max:  13.99\n",
      "min:  0.99\n",
      "mean:  4.76\n",
      "Delivery address in area with B Grade\n",
      "max:  14.49\n",
      "min:  0.99\n",
      "mean:  4.92\n",
      "Delivery address in area with C Grade\n",
      "max:  14.49\n",
      "min:  0.49\n",
      "mean:  4.19\n",
      "Delivery address in area with D Grade\n",
      "max:  14.49\n",
      "min:  0.0\n",
      "mean:  4.23\n"
     ]
    }
   ],
   "source": [
    "holc_grades = ['A', 'B', 'C', 'D']\n",
    "fee_info = {'max':[np.NaN, np.NaN, np.NaN, np.NaN], \n",
    "            'min':[np.NaN, np.NaN, np.NaN, np.NaN],\n",
    "            'avg':[np.NaN, np.NaN, np.NaN, np.NaN]}\n",
    "for grade in holc_grades:\n",
    "    # Isolate one grade\n",
    "    var = str(grade + 'grade')\n",
    "    var = df[df['Holc Grade'] == grade]\n",
    "    # Min, max, avg delivery fees for each\n",
    "    fee_info['max'][holc_grades.index(grade)] = max(var['Delivery Fee'])\n",
    "    fee_info['min'][holc_grades.index(grade)] = min(var['Delivery Fee'])\n",
    "    fee_info['avg'][holc_grades.index(grade)] = round(np.mean(var['Delivery Fee']), 2)\n",
    "    print(\"Delivery address in area with\", grade, \"Grade\")\n",
    "    print(\"max: \", max(var['Delivery Fee']))\n",
    "    print(\"min: \", min(var['Delivery Fee']))\n",
    "    print(\"mean: \", round(np.mean(var['Delivery Fee']), 2))"
   ]
  },
  {
   "cell_type": "code",
   "execution_count": 435,
   "id": "acceptable-waste",
   "metadata": {},
   "outputs": [
    {
     "data": {
      "image/png": "[encoded data removed]",
      "text/plain": [
       "<Figure size 1080x360 with 3 Axes>"
      ]
     },
     "metadata": {
      "needs_background": "light"
     },
     "output_type": "display_data"
    }
   ],
   "source": [
    "import matplotlib.pyplot as plt\n",
    "fig, ax = plt.subplots(1,3, figsize=(15,5), sharex=True)\n",
    "for ax_n, stat in zip([0,1,2], ['avg', 'max', 'min']):\n",
    "    ax[ax_n].bar(holc_grades, fee_info[stat])\n",
    "    for i, v in enumerate(fee_info[stat]):\n",
    "        ax[ax_n].text(i, v+.1, \"%.2f\" %v, ha=\"center\")\n",
    "    ax[ax_n].set_ylabel(stat + \" delivery fee (USD)\")\n",
    "    ax[ax_n].set_xlabel(\"HOLC grade\")\n",
    "    ax[ax_n].set_title(stat)\n",
    "ax[0].set_ylim(0, 5.5)\n",
    "ax[1].set_ylim(0, 15.5)\n",
    "ax[2].set_ylim(0, 2)\n",
    "plt.suptitle(\"Delivery Fee by HOLC Grade of Delivery Address\")\n",
    "plt.xlabel(\"HOLC Grade\")\n",
    "\n",
    "plt.show()"
   ]
  },
  {
   "cell_type": "markdown",
   "id": "eligible-samoa",
   "metadata": {},
   "source": [
    "####  What are the min, max, & avg delivery fees  for tracts with *any* \"hazardous\" graded areas relative to those with none?"
   ]
  },
  {
   "cell_type": "code",
   "execution_count": 475,
   "id": "atlantic-munich",
   "metadata": {},
   "outputs": [
    {
     "name": "stdout",
     "output_type": "stream",
     "text": [
      "Delivery address in area with at least some D Graded region(s)\n",
      "max:  14.49\n",
      "min:  0.0\n",
      "mean:  4.37\n",
      "Delivery address in area with no D Graded region(s)\n",
      "max:  14.99\n",
      "min:  0.49\n",
      "mean:  4.21\n"
     ]
    }
   ],
   "source": [
    "# Delivery addresses in tracts with any D-graded areas\n",
    "any_d = df[df['Holc Grade'].str.contains('D')==True]\n",
    "no_d = df[df['Holc Grade'].str.contains('D')==False]\n",
    "\n",
    "# Sanity check - which grades are included in each group\n",
    "# print(np.unique(any_d['Holc Grade']))\n",
    "# print(np.unique(no_d['Holc Grade']))\n",
    "\n",
    "d_fee_info = {'max':[np.NaN, np.NaN], \n",
    "             'min':[np.NaN, np.NaN],\n",
    "             'avg':[np.NaN, np.NaN]}\n",
    "d_fee_info['max'] = [max(any_d['Delivery Fee']), max(no_d['Delivery Fee'])]\n",
    "d_fee_info['min'] = [min(any_d['Delivery Fee']), min(no_d['Delivery Fee'])]\n",
    "d_fee_info['avg'] = [round(np.mean(any_d['Delivery Fee']), 2), round(np.mean(no_d['Delivery Fee']), 2)]\n",
    "\n",
    "# Min, max, avg delivery fees for each\n",
    "print(\"Delivery address in area with at least some D Graded region(s)\")\n",
    "print(\"max: \", max(any_d['Delivery Fee']))\n",
    "print(\"min: \", min(any_d['Delivery Fee']))\n",
    "print(\"mean: \", round(np.mean(any_d['Delivery Fee']), 2))\n",
    "\n",
    "print(\"Delivery address in area with no D Graded region(s)\")\n",
    "print(\"max: \", max(no_d['Delivery Fee']))\n",
    "print(\"min: \", min(no_d['Delivery Fee']))\n",
    "print(\"mean: \", round(np.mean(no_d['Delivery Fee']), 2))"
   ]
  },
  {
   "cell_type": "code",
   "execution_count": 490,
   "id": "threaded-produce",
   "metadata": {},
   "outputs": [
    {
     "data": {
      "image/png": "[encoded data removed]",
      "text/plain": [
       "<Figure size 1080x360 with 3 Axes>"
      ]
     },
     "metadata": {
      "needs_background": "light"
     },
     "output_type": "display_data"
    }
   ],
   "source": [
    "import matplotlib.pyplot as plt\n",
    "\n",
    "fig, ax = plt.subplots(1,3, figsize=(15,5))\n",
    "holc_groups = [\"D area(s) in tract\", \"No D area(s) in tract\"]\n",
    "for ax_n, stat in zip([0,1,2], ['avg', 'max', 'min']):\n",
    "    ax[ax_n].bar(holc_groups, d_fee_info[stat])\n",
    "    for i, v in enumerate(d_fee_info[stat]):\n",
    "        ax[ax_n].text(i, v+.1, \"%.2f\" %v, ha=\"center\")\n",
    "    ax[ax_n].set_ylabel(stat + \" delivery fee (USD)\")\n",
    "    ax[ax_n].set_title(stat)\n",
    "ax[0].set_ylim(0, 5.5)\n",
    "ax[1].set_ylim(0, 16)\n",
    "ax[2].set_ylim(0, 1)\n",
    "plt.suptitle(\"Delivery Fee by Shared Tract with D Grade Area\")\n",
    "plt.show()"
   ]
  },
  {
   "cell_type": "code",
   "execution_count": null,
   "id": "regulation-ranking",
   "metadata": {},
   "outputs": [],
   "source": []
  }
 ],
 "metadata": {
  "kernelspec": {
   "display_name": "Python 3",
   "language": "python",
   "name": "python3"
  },
  "language_info": {
   "codemirror_mode": {
    "name": "ipython",
    "version": 3
   },
   "file_extension": ".py",
   "mimetype": "text/x-python",
   "name": "python",
   "nbconvert_exporter": "python",
   "pygments_lexer": "ipython3",
   "version": "3.8.1"
  }
 },
 "nbformat": 4,
 "nbformat_minor": 5
}
